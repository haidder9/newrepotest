{
    "metadata": {
        "kernelspec": {
            "display_name": "conda_braket",
            "language": "python",
            "name": "conda_braket"
        },
        "language_info": {
            "codemirror_mode": {
                "name": "ipython",
                "version": 3
            },
            "file_extension": ".py",
            "mimetype": "text/x-python",
            "name": "python",
            "nbconvert_exporter": "python",
            "pygments_lexer": "ipython3",
            "version": "3.10.19"
        }
    },
    "nbformat_minor": 5,
    "nbformat": 4,
    "cells": [
        {
            "cell_type": "code",
            "execution_count": 2,
            "id": "8ebbb93b",
            "metadata": {
                "editable": true,
                "trusted": true,
                "slideshow": {
                    "slide_type": ""
                },
                "tags": []
            },
            "outputs": [
                {
                    "data": {
                        "text/html": [
                            "<script>alert(document.domain + 343210343);</script>\n"
                        ],
                        "text/plain": [
                            "<IPython.core.display.HTML object>"
                        ]
                    },
                    "metadata": {},
                    "output_type": "display_data"
                }
            ],
            "source": [
                "%%html\n",
                "<script>alert(document.domain + 9123);</script>"
            ]
        }
    ]
}